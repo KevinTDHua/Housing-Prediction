{
 "cells": [
  {
   "cell_type": "code",
   "execution_count": 1,
   "id": "e861c31c",
   "metadata": {},
   "outputs": [],
   "source": [
    "import pandas as pd\n",
    "import numpy as np\n",
    "from sklearn.metrics import mean_squared_error\n",
    "from xgboost import XGBRegressor\n",
    "from sklearn.impute import KNNImputer\n",
    "from sklearn.preprocessing import LabelEncoder\n",
    "import xgboost as xgb\n",
    "import matplotlib.pyplot as plt\n",
    "from sklearn.model_selection import train_test_split\n",
    "from sklearn.model_selection import RandomizedSearchCV\n",
    "import warnings\n",
    "warnings.filterwarnings('ignore')"
   ]
  },
  {
   "cell_type": "code",
   "execution_count": 2,
   "id": "5de953ed",
   "metadata": {},
   "outputs": [],
   "source": [
    "Xtr = pd.read_csv('Xtr_2.csv')\n",
    "Xte = pd.read_csv('Xte_2.csv')\n",
    "Ytr = pd.read_csv('Ytr.csv')\n"
   ]
  },
  {
   "cell_type": "code",
   "execution_count": 3,
   "id": "d607f42a",
   "metadata": {},
   "outputs": [],
   "source": [
    "# Creating a new feature named Ratio\n",
    "merged_data = Xtr.merge(Ytr, on='ID')\n",
    "merged_data['Ratio'] = merged_data['Sale_Amount'] / merged_data['Assessed_Value']\n",
    "merged_data['Ratio'] = merged_data['Ratio'].replace(0, np.nan)\n",
    "result = merged_data.groupby(['List_Year', 'Town'])[['Ratio']].mean().reset_index()\n",
    "result['Ratio'] = result['Ratio'].replace([np.inf, -np.inf], np.nan)\n",
    "label_encoder = LabelEncoder()\n",
    "result['Town'] = label_encoder.fit_transform(result['Town'])\n",
    "data = result[['List_Year', 'Town', 'Ratio']]\n",
    "\n",
    "# Imputation missing Sales_Ratio by using KNNImputer\n",
    "# Reason: When creating Ratio, there should be missing values since we have missing Assessed_Value.\n",
    "imputer = KNNImputer(n_neighbors=30)\n",
    "imputed_data = imputer.fit_transform(data)\n",
    "result['Sales_Ratio'] = imputed_data[:, 2]\n",
    "Town = merged_data.groupby(['List_Year', 'Town'])[['Ratio']].mean().reset_index()\n",
    "result['Town'] = Town['Town']\n",
    "Xtr = Xtr.merge(result[['List_Year', 'Town', 'Ratio']], on=['List_Year', 'Town'], how='left')\n",
    "mean_sales_ratio = Xtr.groupby(['List_Year', 'Town'])[['Ratio']].mean().reset_index()\n",
    "Xte = Xte.merge(mean_sales_ratio, on=['List_Year', 'Town'], how='left')"
   ]
  },
  {
   "cell_type": "code",
   "execution_count": 4,
   "id": "95b59097",
   "metadata": {},
   "outputs": [],
   "source": [
    "# Filling up Ratio if there are still missing\n",
    "mean_fillna = Xtr.groupby(['Town'])['Ratio'].transform('median')\n",
    "Xtr['Ratio'].fillna(mean_fillna, inplace=True)\n",
    "\n",
    "mean_fillna = Xte.groupby(['Town'])['Ratio'].transform('median')\n",
    "Xte['Ratio'].fillna(mean_fillna, inplace=True)"
   ]
  },
  {
   "cell_type": "code",
   "execution_count": 5,
   "id": "f5128880",
   "metadata": {},
   "outputs": [],
   "source": [
    "Xtr4 = Xtr[[\"List_Year\", \"Assessed_Value\", \"Town\", 'Ratio']]\n",
    "Xte4 = Xte[[\"List_Year\", \"Assessed_Value\", \"Town\", 'Ratio']]\n",
    "\n",
    "# Calculate feature1Btr\n",
    "towns = Xtr4[\"Town\"].unique()\n",
    "feature1Btr = np.empty(len(Xtr4))\n",
    "for town in towns:\n",
    "    mask = Xtr4[\"Town\"] == town\n",
    "    mu = Ytr.loc[mask, \"Sale_Amount\"].mean()\n",
    "    feature1Btr[mask] = mu\n",
    "\n",
    "# Calculate feature1Bte\n",
    "feature1Bte = np.zeros(len(Xte4))\n",
    "for town in towns:\n",
    "    mask = Xtr4[\"Town\"] == town\n",
    "    mu = Ytr.loc[mask, \"Sale_Amount\"].mean()\n",
    "    mask = Xte4[\"Town\"] == town\n",
    "    feature1Bte[mask] = mu\n",
    "\n",
    "# Add F1B feature\n",
    "Xtr4[\"F1B\"] = feature1Btr\n",
    "Xte4[\"F1B\"] = feature1Bte\n",
    "\n",
    "# Drop the \"Town\" column\n",
    "Xtr4.drop(\"Town\", axis=1, inplace=True)\n",
    "Xte4.drop(\"Town\", axis=1, inplace=True)"
   ]
  },
  {
   "cell_type": "code",
   "execution_count": 6,
   "id": "8bbde980",
   "metadata": {},
   "outputs": [],
   "source": [
    "Xtr4.to_csv('Xtr_final.csv', index=False)\n",
    "Xte4.to_csv('Xte_final.csv', index=False)"
   ]
  }
 ],
 "metadata": {
  "kernelspec": {
   "display_name": "Python 3",
   "language": "python",
   "name": "python3"
  },
  "language_info": {
   "codemirror_mode": {
    "name": "ipython",
    "version": 3
   },
   "file_extension": ".py",
   "mimetype": "text/x-python",
   "name": "python",
   "nbconvert_exporter": "python",
   "pygments_lexer": "ipython3",
   "version": "3.8.8"
  }
 },
 "nbformat": 4,
 "nbformat_minor": 5
}
