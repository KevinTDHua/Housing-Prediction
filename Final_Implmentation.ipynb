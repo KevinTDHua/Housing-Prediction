{
 "cells": [
  {
   "cell_type": "code",
   "execution_count": 1,
   "id": "4756f782",
   "metadata": {},
   "outputs": [],
   "source": [
    "import pandas as pd\n",
    "import numpy as np\n",
    "from sklearn.metrics import mean_squared_error\n",
    "from xgboost import XGBRegressor\n",
    "from sklearn.impute import KNNImputer\n",
    "from sklearn.preprocessing import LabelEncoder\n",
    "import xgboost as xgb\n",
    "import matplotlib.pyplot as plt\n",
    "from sklearn.model_selection import train_test_split\n",
    "from sklearn.model_selection import RandomizedSearchCV"
   ]
  },
  {
   "cell_type": "code",
   "execution_count": 2,
   "id": "18764116",
   "metadata": {},
   "outputs": [
    {
     "name": "stderr",
     "output_type": "stream",
     "text": [
      "C:\\Users\\Tyler\\AppData\\Local\\Temp\\ipykernel_1988\\4056427700.py:2: DtypeWarning: Columns (6,7) have mixed types. Specify dtype option on import or set low_memory=False.\n",
      "  Xte = pd.read_csv('Xte_temp2.csv')\n"
     ]
    }
   ],
   "source": [
    "Xtr = pd.read_csv('Xtr_final.csv')\n",
    "Xte = pd.read_csv('Xte_final.csv')\n",
    "Ytr = pd.read_csv('Ytr.csv')"
   ]
  },
  {
   "cell_type": "code",
   "execution_count": 3,
   "id": "ef60d840",
   "metadata": {},
   "outputs": [],
   "source": [
    "# Creating a new feature named Ratio\n",
    "merged_data = Xtr.merge(Ytr, on='ID')\n",
    "merged_data['Ratio'] = merged_data['Sale_Amount'] / merged_data['Assessed_Value']\n",
    "merged_data['Ratio'] = merged_data['Ratio'].replace(0, np.nan)\n",
    "result = merged_data.groupby(['List_Year', 'Town'])[['Ratio']].mean().reset_index()\n",
    "result['Ratio'] = result['Ratio'].replace([np.inf, -np.inf], np.nan)\n",
    "label_encoder = LabelEncoder()\n",
    "result['Town'] = label_encoder.fit_transform(result['Town'])\n",
    "data = result[['List_Year', 'Town', 'Ratio']]\n",
    "\n",
    "# Imputation missing Sales_Ratio by using KNNImputer\n",
    "# Reason: When creating Ratio, there should be missing values since we have missing Assessed_Value.\n",
    "imputer = KNNImputer(n_neighbors=30)\n",
    "imputed_data = imputer.fit_transform(data)\n",
    "result['Sales_Ratio'] = imputed_data[:, 2]\n",
    "Town = merged_data.groupby(['List_Year', 'Town'])[['Ratio']].mean().reset_index()\n",
    "result['Town'] = Town['Town']\n",
    "Xtr = Xtr.merge(result[['List_Year', 'Town', 'Ratio']], on=['List_Year', 'Town'], how='left')\n",
    "mean_sales_ratio = Xtr.groupby(['List_Year', 'Town'])[['Ratio']].mean().reset_index()\n",
    "Xte = Xte.merge(mean_sales_ratio, on=['List_Year', 'Town'], how='left')"
   ]
  },
  {
   "cell_type": "code",
   "execution_count": 4,
   "id": "0456e65a",
   "metadata": {},
   "outputs": [],
   "source": [
    "# Filling up Ratio if there are still missing\n",
    "mean_fillna = Xtr.groupby(['Town'])['Ratio'].transform('median')\n",
    "Xtr['Ratio'].fillna(mean_fillna, inplace=True)\n",
    "\n",
    "mean_fillna = Xte.groupby(['Town'])['Ratio'].transform('median')\n",
    "Xte['Ratio'].fillna(mean_fillna, inplace=True)"
   ]
  },
  {
   "cell_type": "code",
   "execution_count": 5,
   "id": "a393a471",
   "metadata": {
    "scrolled": true
   },
   "outputs": [
    {
     "name": "stderr",
     "output_type": "stream",
     "text": [
      "C:\\Users\\Tyler\\AppData\\Local\\Temp\\ipykernel_1988\\3278282528.py:21: SettingWithCopyWarning: \n",
      "A value is trying to be set on a copy of a slice from a DataFrame.\n",
      "Try using .loc[row_indexer,col_indexer] = value instead\n",
      "\n",
      "See the caveats in the documentation: https://pandas.pydata.org/pandas-docs/stable/user_guide/indexing.html#returning-a-view-versus-a-copy\n",
      "  Xtr4[\"F1B\"] = feature1Btr\n",
      "C:\\Users\\Tyler\\AppData\\Local\\Temp\\ipykernel_1988\\3278282528.py:22: SettingWithCopyWarning: \n",
      "A value is trying to be set on a copy of a slice from a DataFrame.\n",
      "Try using .loc[row_indexer,col_indexer] = value instead\n",
      "\n",
      "See the caveats in the documentation: https://pandas.pydata.org/pandas-docs/stable/user_guide/indexing.html#returning-a-view-versus-a-copy\n",
      "  Xte4[\"F1B\"] = feature1Bte\n",
      "C:\\Users\\Tyler\\AppData\\Local\\Temp\\ipykernel_1988\\3278282528.py:25: SettingWithCopyWarning: \n",
      "A value is trying to be set on a copy of a slice from a DataFrame\n",
      "\n",
      "See the caveats in the documentation: https://pandas.pydata.org/pandas-docs/stable/user_guide/indexing.html#returning-a-view-versus-a-copy\n",
      "  Xtr4.drop(\"Town\", axis=1, inplace=True)\n",
      "C:\\Users\\Tyler\\AppData\\Local\\Temp\\ipykernel_1988\\3278282528.py:26: SettingWithCopyWarning: \n",
      "A value is trying to be set on a copy of a slice from a DataFrame\n",
      "\n",
      "See the caveats in the documentation: https://pandas.pydata.org/pandas-docs/stable/user_guide/indexing.html#returning-a-view-versus-a-copy\n",
      "  Xte4.drop(\"Town\", axis=1, inplace=True)\n"
     ]
    }
   ],
   "source": [
    "Xtr4 = Xtr[[\"List_Year\", \"Assessed_Value\", \"Town\", 'Ratio']]\n",
    "Xte4 = Xte[[\"List_Year\", \"Assessed_Value\", \"Town\", 'Ratio']]\n",
    "\n",
    "# Calculate feature1Btr\n",
    "towns = Xtr4[\"Town\"].unique()\n",
    "feature1Btr = np.empty(len(Xtr4))\n",
    "for town in towns:\n",
    "    mask = Xtr4[\"Town\"] == town\n",
    "    mu = Ytr.loc[mask, \"Sale_Amount\"].mean()\n",
    "    feature1Btr[mask] = mu\n",
    "\n",
    "# Calculate feature1Bte\n",
    "feature1Bte = np.zeros(len(Xte4))\n",
    "for town in towns:\n",
    "    mask = Xtr4[\"Town\"] == town\n",
    "    mu = Ytr.loc[mask, \"Sale_Amount\"].mean()\n",
    "    mask = Xte4[\"Town\"] == town\n",
    "    feature1Bte[mask] = mu\n",
    "\n",
    "# Add F1B feature\n",
    "Xtr4[\"F1B\"] = feature1Btr\n",
    "Xte4[\"F1B\"] = feature1Bte\n",
    "\n",
    "# Drop the \"Town\" column\n",
    "Xtr4.drop(\"Town\", axis=1, inplace=True)\n",
    "Xte4.drop(\"Town\", axis=1, inplace=True)"
   ]
  },
  {
   "cell_type": "code",
   "execution_count": 6,
   "id": "f13d49ab",
   "metadata": {},
   "outputs": [
    {
     "data": {
      "text/html": [
       "<style>#sk-container-id-1 {color: black;}#sk-container-id-1 pre{padding: 0;}#sk-container-id-1 div.sk-toggleable {background-color: white;}#sk-container-id-1 label.sk-toggleable__label {cursor: pointer;display: block;width: 100%;margin-bottom: 0;padding: 0.3em;box-sizing: border-box;text-align: center;}#sk-container-id-1 label.sk-toggleable__label-arrow:before {content: \"▸\";float: left;margin-right: 0.25em;color: #696969;}#sk-container-id-1 label.sk-toggleable__label-arrow:hover:before {color: black;}#sk-container-id-1 div.sk-estimator:hover label.sk-toggleable__label-arrow:before {color: black;}#sk-container-id-1 div.sk-toggleable__content {max-height: 0;max-width: 0;overflow: hidden;text-align: left;background-color: #f0f8ff;}#sk-container-id-1 div.sk-toggleable__content pre {margin: 0.2em;color: black;border-radius: 0.25em;background-color: #f0f8ff;}#sk-container-id-1 input.sk-toggleable__control:checked~div.sk-toggleable__content {max-height: 200px;max-width: 100%;overflow: auto;}#sk-container-id-1 input.sk-toggleable__control:checked~label.sk-toggleable__label-arrow:before {content: \"▾\";}#sk-container-id-1 div.sk-estimator input.sk-toggleable__control:checked~label.sk-toggleable__label {background-color: #d4ebff;}#sk-container-id-1 div.sk-label input.sk-toggleable__control:checked~label.sk-toggleable__label {background-color: #d4ebff;}#sk-container-id-1 input.sk-hidden--visually {border: 0;clip: rect(1px 1px 1px 1px);clip: rect(1px, 1px, 1px, 1px);height: 1px;margin: -1px;overflow: hidden;padding: 0;position: absolute;width: 1px;}#sk-container-id-1 div.sk-estimator {font-family: monospace;background-color: #f0f8ff;border: 1px dotted black;border-radius: 0.25em;box-sizing: border-box;margin-bottom: 0.5em;}#sk-container-id-1 div.sk-estimator:hover {background-color: #d4ebff;}#sk-container-id-1 div.sk-parallel-item::after {content: \"\";width: 100%;border-bottom: 1px solid gray;flex-grow: 1;}#sk-container-id-1 div.sk-label:hover label.sk-toggleable__label {background-color: #d4ebff;}#sk-container-id-1 div.sk-serial::before {content: \"\";position: absolute;border-left: 1px solid gray;box-sizing: border-box;top: 0;bottom: 0;left: 50%;z-index: 0;}#sk-container-id-1 div.sk-serial {display: flex;flex-direction: column;align-items: center;background-color: white;padding-right: 0.2em;padding-left: 0.2em;position: relative;}#sk-container-id-1 div.sk-item {position: relative;z-index: 1;}#sk-container-id-1 div.sk-parallel {display: flex;align-items: stretch;justify-content: center;background-color: white;position: relative;}#sk-container-id-1 div.sk-item::before, #sk-container-id-1 div.sk-parallel-item::before {content: \"\";position: absolute;border-left: 1px solid gray;box-sizing: border-box;top: 0;bottom: 0;left: 50%;z-index: -1;}#sk-container-id-1 div.sk-parallel-item {display: flex;flex-direction: column;z-index: 1;position: relative;background-color: white;}#sk-container-id-1 div.sk-parallel-item:first-child::after {align-self: flex-end;width: 50%;}#sk-container-id-1 div.sk-parallel-item:last-child::after {align-self: flex-start;width: 50%;}#sk-container-id-1 div.sk-parallel-item:only-child::after {width: 0;}#sk-container-id-1 div.sk-dashed-wrapped {border: 1px dashed gray;margin: 0 0.4em 0.5em 0.4em;box-sizing: border-box;padding-bottom: 0.4em;background-color: white;}#sk-container-id-1 div.sk-label label {font-family: monospace;font-weight: bold;display: inline-block;line-height: 1.2em;}#sk-container-id-1 div.sk-label-container {text-align: center;}#sk-container-id-1 div.sk-container {/* jupyter's `normalize.less` sets `[hidden] { display: none; }` but bootstrap.min.css set `[hidden] { display: none !important; }` so we also need the `!important` here to be able to override the default hidden behavior on the sphinx rendered scikit-learn.org. See: https://github.com/scikit-learn/scikit-learn/issues/21755 */display: inline-block !important;position: relative;}#sk-container-id-1 div.sk-text-repr-fallback {display: none;}</style><div id=\"sk-container-id-1\" class=\"sk-top-container\"><div class=\"sk-text-repr-fallback\"><pre>XGBRegressor(base_score=None, booster=None, callbacks=None,\n",
       "             colsample_bylevel=None, colsample_bynode=None,\n",
       "             colsample_bytree=0.8, early_stopping_rounds=None,\n",
       "             enable_categorical=False, eval_metric=None, feature_types=None,\n",
       "             gamma=None, gpu_id=None, grow_policy=None, importance_type=None,\n",
       "             interaction_constraints=None, learning_rate=0.1, max_bin=None,\n",
       "             max_cat_threshold=None, max_cat_to_onehot=None,\n",
       "             max_delta_step=None, max_depth=None, max_leaves=None,\n",
       "             min_child_weight=None, missing=nan, monotone_constraints=None,\n",
       "             n_estimators=100, n_jobs=None, num_parallel_tree=None,\n",
       "             predictor=None, random_state=None, ...)</pre><b>In a Jupyter environment, please rerun this cell to show the HTML representation or trust the notebook. <br />On GitHub, the HTML representation is unable to render, please try loading this page with nbviewer.org.</b></div><div class=\"sk-container\" hidden><div class=\"sk-item\"><div class=\"sk-estimator sk-toggleable\"><input class=\"sk-toggleable__control sk-hidden--visually\" id=\"sk-estimator-id-1\" type=\"checkbox\" checked><label for=\"sk-estimator-id-1\" class=\"sk-toggleable__label sk-toggleable__label-arrow\">XGBRegressor</label><div class=\"sk-toggleable__content\"><pre>XGBRegressor(base_score=None, booster=None, callbacks=None,\n",
       "             colsample_bylevel=None, colsample_bynode=None,\n",
       "             colsample_bytree=0.8, early_stopping_rounds=None,\n",
       "             enable_categorical=False, eval_metric=None, feature_types=None,\n",
       "             gamma=None, gpu_id=None, grow_policy=None, importance_type=None,\n",
       "             interaction_constraints=None, learning_rate=0.1, max_bin=None,\n",
       "             max_cat_threshold=None, max_cat_to_onehot=None,\n",
       "             max_delta_step=None, max_depth=None, max_leaves=None,\n",
       "             min_child_weight=None, missing=nan, monotone_constraints=None,\n",
       "             n_estimators=100, n_jobs=None, num_parallel_tree=None,\n",
       "             predictor=None, random_state=None, ...)</pre></div></div></div></div></div>"
      ],
      "text/plain": [
       "XGBRegressor(base_score=None, booster=None, callbacks=None,\n",
       "             colsample_bylevel=None, colsample_bynode=None,\n",
       "             colsample_bytree=0.8, early_stopping_rounds=None,\n",
       "             enable_categorical=False, eval_metric=None, feature_types=None,\n",
       "             gamma=None, gpu_id=None, grow_policy=None, importance_type=None,\n",
       "             interaction_constraints=None, learning_rate=0.1, max_bin=None,\n",
       "             max_cat_threshold=None, max_cat_to_onehot=None,\n",
       "             max_delta_step=None, max_depth=None, max_leaves=None,\n",
       "             min_child_weight=None, missing=nan, monotone_constraints=None,\n",
       "             n_estimators=100, n_jobs=None, num_parallel_tree=None,\n",
       "             predictor=None, random_state=None, ...)"
      ]
     },
     "execution_count": 6,
     "metadata": {},
     "output_type": "execute_result"
    }
   ],
   "source": [
    "X_train, X_valid, Y_train, Y_valid = train_test_split(Xtr4, Ytr[\"Sale_Amount\"], test_size=0.2, random_state=42)\n",
    "model = XGBRegressor(learning_rate=0.1, colsample_bytree=0.8)\n",
    "\n",
    "model.fit(X_train, Y_train)"
   ]
  },
  {
   "cell_type": "code",
   "execution_count": 11,
   "id": "e0d3e0b4",
   "metadata": {
    "scrolled": true
   },
   "outputs": [
    {
     "name": "stdout",
     "output_type": "stream",
     "text": [
      "Training RMSE: 338432.7338774746\n",
      "Test RMSE: 364137.3475643079\n"
     ]
    }
   ],
   "source": [
    "Y_train_pred = model.predict(X_train)\n",
    "rmse_train = np.sqrt(mean_squared_error(Y_train, Y_train_pred))\n",
    "print(\"Training RMSE:\", rmse_train)\n",
    "\n",
    "Yte_pred = model.predict(Xte4)\n",
    "pred3 = pd.DataFrame(index=Xte4.index)\n",
    "pred3[\"Sale_Amount\"] = Yte_pred"
   ]
  },
  {
   "cell_type": "code",
   "execution_count": 8,
   "id": "6aa25ebb",
   "metadata": {
    "scrolled": false
   },
   "outputs": [],
   "source": [
    "pred_final = pd.read_csv('pred0.csv')\n",
    "pred_final[\"Sale_Amount\"] = Yte_pred"
   ]
  },
  {
   "cell_type": "code",
   "execution_count": 9,
   "id": "e6b1e7c2",
   "metadata": {},
   "outputs": [],
   "source": [
    "pred_final.to_csv('pred_final.csv', index=False)"
   ]
  },
  {
   "cell_type": "code",
   "execution_count": 10,
   "id": "19c026ec",
   "metadata": {
    "scrolled": true
   },
   "outputs": [
    {
     "data": {
      "image/png": "[encoded data removed]",
      "text/plain": [
       "<Figure size 640x480 with 1 Axes>"
      ]
     },
     "metadata": {},
     "output_type": "display_data"
    }
   ],
   "source": [
    "xgb.plot_importance(model, importance_type='weight')  # You can also use 'gain' or 'cover' as importance_type\n",
    "plt.show()"
   ]
  }
 ],
 "metadata": {
  "kernelspec": {
   "display_name": "Python 3 (ipykernel)",
   "language": "python",
   "name": "python3"
  },
  "language_info": {
   "codemirror_mode": {
    "name": "ipython",
    "version": 3
   },
   "file_extension": ".py",
   "mimetype": "text/x-python",
   "name": "python",
   "nbconvert_exporter": "python",
   "pygments_lexer": "ipython3",
   "version": "3.11.5"
  }
 },
 "nbformat": 4,
 "nbformat_minor": 5
}
