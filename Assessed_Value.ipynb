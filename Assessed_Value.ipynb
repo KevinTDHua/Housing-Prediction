{
 "cells": [
  {
   "cell_type": "code",
   "execution_count": 8,
   "id": "69fb4aa3",
   "metadata": {},
   "outputs": [
    {
     "name": "stderr",
     "output_type": "stream",
     "text": [
      "C:\\Users\\Tyler\\AppData\\Local\\Temp\\ipykernel_2300\\1924081997.py:3: DtypeWarning: Columns (6,7) have mixed types. Specify dtype option on import or set low_memory=False.\n",
      "  Xte = pd.read_csv('Xte.csv')\n"
     ]
    }
   ],
   "source": [
    "import pandas as pd\n",
    "Xtr = pd.read_csv('Xtr.csv')\n",
    "Xte = pd.read_csv('Xte.csv')\n",
    "Xte.loc[Xte['Town'] == '***Unknown***', 'Town'] = 'East Hampton'\n",
    "Xtr6 = pd.read_csv('Xtr_Address.csv')\n",
    "Xte6 = pd.read_csv('Xte_Address.csv')"
   ]
  },
  {
   "cell_type": "code",
   "execution_count": 9,
   "id": "542def17",
   "metadata": {},
   "outputs": [],
   "source": [
    "Xtr['Address'] = pd.merge(Xtr, Xtr6[['ID', 'Address']], on='ID', how='left')['Address_y']\n",
    "Xte['Address'] = pd.merge(Xte, Xte6[['ID', 'Address']], on='ID', how='left')['Address_y']"
   ]
  },
  {
   "cell_type": "code",
   "execution_count": 10,
   "id": "7c671c1d",
   "metadata": {},
   "outputs": [],
   "source": [
    "Xtr1 = Xtr.copy()\n",
    "Xte1 = Xte.copy()\n",
    "#Xtr2 = Xtr.copy()\n",
    "#Xte2 = Xte.copy()"
   ]
  },
  {
   "cell_type": "code",
   "execution_count": 11,
   "id": "ee2baecd",
   "metadata": {},
   "outputs": [],
   "source": [
    "Xtr1['Address'] = Xtr1.groupby('Town')['Address'].transform(lambda x: x.fillna(x.mode()[0]))\n",
    "Xte1['Address'] = Xte1.groupby('Town')['Address'].transform(lambda x: x.fillna(x.mode()[0]))\n",
    "\n",
    "#Xtr2['Address'] = Xtr2.groupby('Town')['Address'].transform(lambda x: x.fillna(x.mode()[0]))\n",
    "#Xte2['Address'] = Xte2.groupby('Town')['Address'].transform(lambda x: x.fillna(x.mode()[0]))"
   ]
  },
  {
   "cell_type": "code",
   "execution_count": 12,
   "id": "b5972524",
   "metadata": {},
   "outputs": [],
   "source": [
    "Xtr1['Assessed_Value'] = Xtr1.groupby(['Address'])['Assessed_Value'].transform(lambda x: x.fillna(x.median()))\n",
    "Xte1['Assessed_Value'] = Xte1.groupby(['Address'])['Assessed_Value'].transform(lambda x: x.fillna(x.median()))\n",
    "\n",
    "#Xtr1['Assessed_Value'] = Xtr1.groupby(['Address'])['Assessed_Value'].transform(lambda x: x.fillna(x.mean()))\n",
    "#Xte1['Assessed_Value'] = Xte1.groupby(['Address'])['Assessed_Value'].transform(lambda x: x.fillna(x.mean()))\n",
    "\n",
    "#Xtr1['Assessed_Value'] = Xtr1.groupby(['Town','List_Year'])['Assessed_Value'].transform(lambda x: x.fillna(x.median()))\n",
    "#Xte1['Assessed_Value'] = Xte1.groupby(['Town','List_Year'])['Assessed_Value'].transform(lambda x: x.fillna(x.median()))\n",
    "\n",
    "#Xtr1['Assessed_Value'] = Xtr1.groupby(['Town'])['Assessed_Value'].transform(lambda x: x.fillna(x.median()))\n",
    "#Xte1['Assessed_Value'] = Xte1.groupby(['Town'])['Assessed_Value'].transform(lambda x: x.fillna(x.median()))\n",
    "\n",
    "Xtr[\"Assessed_Value\"].fillna(Xtr[\"Assessed_Value\"].median(), inplace=True)\n",
    "Xte[\"Assessed_Value\"].fillna(Xte[\"Assessed_Value\"].median(), inplace=True)\n",
    "\n",
    "Xtr1.to_csv('Xtr_final.csv', index=False)\n",
    "Xte1.to_csv('Xte_final.csv', index=False)"
   ]
  },
  {
   "cell_type": "code",
   "execution_count": null,
   "id": "56f0c040",
   "metadata": {},
   "outputs": [],
   "source": [
    "#Xtr2['Assessed_Value'] = Xtr2.groupby(['List_Year', 'Address'])['Assessed_Value'].transform(lambda x: x.fillna(x.mean()))\n",
    "#Xte2['Assessed_Value'] = Xte2.groupby(['List_Year', 'Address'])['Assessed_Value'].transform(lambda x: x.fillna(x.mean()))\n",
    "\n",
    "#Xtr2['Assessed_Value'] = Xtr2.groupby(['Address'])['Assessed_Value'].transform(lambda x: x.fillna(x.median()))\n",
    "#Xte2['Assessed_Value'] = Xte2.groupby(['Address'])['Assessed_Value'].transform(lambda x: x.fillna(x.median()))\n",
    "\n",
    "#Xtr2['Assessed_Value'] = Xtr2.groupby(['Town','List_Year'])['Assessed_Value'].transform(lambda x: x.fillna(x.median()))\n",
    "#Xte2['Assessed_Value'] = Xte2.groupby(['Town','List_Year'])['Assessed_Value'].transform(lambda x: x.fillna(x.median()))\n",
    "\n",
    "#Xtr2['Assessed_Value'] = Xtr2.groupby(['Town'])['Assessed_Value'].transform(lambda x: x.fillna(x.median()))\n",
    "#Xte2['Assessed_Value'] = Xte2.groupby(['Town'])['Assessed_Value'].transform(lambda x: x.fillna(x.median()))\n",
    "\n",
    "#Xtr2.to_csv('Xtr_temp2.csv', index=False)\n",
    "#Xte2.to_csv('Xte_temp2.csv', index=False)"
   ]
  }
 ],
 "metadata": {
  "kernelspec": {
   "display_name": "Python 3 (ipykernel)",
   "language": "python",
   "name": "python3"
  },
  "language_info": {
   "codemirror_mode": {
    "name": "ipython",
    "version": 3
   },
   "file_extension": ".py",
   "mimetype": "text/x-python",
   "name": "python",
   "nbconvert_exporter": "python",
   "pygments_lexer": "ipython3",
   "version": "3.11.5"
  }
 },
 "nbformat": 4,
 "nbformat_minor": 5
}
