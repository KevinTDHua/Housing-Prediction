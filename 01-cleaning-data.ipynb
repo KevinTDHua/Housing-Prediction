{
 "cells": [
  {
   "cell_type": "code",
   "execution_count": 1,
   "id": "f841c872",
   "metadata": {},
   "outputs": [],
   "source": [
    "import pandas as pd\n",
    "import re\n",
    "import warnings\n",
    "warnings.filterwarnings('ignore')"
   ]
  },
  {
   "cell_type": "code",
   "execution_count": 2,
   "id": "a593d7c8",
   "metadata": {},
   "outputs": [],
   "source": [
    "Xtr = pd.read_csv('Xtr.csv')\n",
    "Xte = pd.read_csv('Xte.csv')\n",
    "Xtr = Xtr[['ID','Address']]\n",
    "Xtr['Address'] = Xtr['Address'].str.replace('[^a-zA-Z0-9\\s]', '', regex=True)\n",
    "Xte['Address'] = Xte['Address'].str.replace('[^a-zA-Z0-9\\s]', '', regex=True)\n",
    "Xtr['Address'] = Xtr['Address'].str.lstrip()\n",
    "Xte['Address'] = Xte['Address'].str.lstrip()\n",
    "Xtr['Address'] = Xtr['Address'].str.replace(r\"\\s+[A-Z]$\", \"\", regex=True)\n",
    "Xte['Address'] = Xte['Address'].str.replace(r\"\\s+[A-Z]$\", \"\", regex=True)\n",
    "Xtr['Address'] = Xtr['Address'].str.replace(r'\\s+', ' ', regex=True)\n",
    "Xte['Address'] = Xte['Address'].str.replace(r'\\s+', ' ', regex=True)"
   ]
  },
  {
   "cell_type": "code",
   "execution_count": 3,
   "id": "3b6d6345",
   "metadata": {},
   "outputs": [],
   "source": [
    "abbreviation_mapping = {\n",
    "    'VLG': 'VILLAGE',\n",
    "    'VILL': 'VILLAGE',\n",
    "    'ST': 'STREET',\n",
    "    'RD': 'ROAD',\n",
    "    'LN': 'LANE',\n",
    "    'LA' : 'LANE',\n",
    "    'AVE': 'AVENUE',\n",
    "    'AV': 'AVENUE',\n",
    "    'RDG': 'RIDGE',\n",
    "    'BLVD': 'BOULEVARD',\n",
    "    'RTE': 'ROUTE',\n",
    "    'UT': 'UNIT',\n",
    "    'CIR': 'CIRCLE',\n",
    "    'ISLE': 'IS',\n",
    "    'CT' : 'COURT',\n",
    "    'DR' : 'DRIVE',\n",
    "    'PL' : 'PLACE',\n",
    "    'HL' : 'HILL',\n",
    "    'PT' : 'POINT',\n",
    "    'TR' : 'TERRACE',\n",
    "    'TER' : 'TERRACE',\n",
    "    'TERR' : 'TERRACE',\n",
    "    'HWY' : 'HIGHWAY',\n",
    "    'HGHY' : 'HIGHWAY',\n",
    "    'HGWY' : 'HIGHWAY',\n",
    "    'TRL' : 'TRAIL',\n",
    "    'SQ' : 'SQUARE',\n",
    "    'LT' : 'LOT'\n",
    "}"
   ]
  },
  {
   "cell_type": "code",
   "execution_count": 4,
   "id": "90d4a859",
   "metadata": {},
   "outputs": [],
   "source": [
    "direction_mapping = {\n",
    "    'W ': 'WEST ',\n",
    "    'E ': 'EAST ',\n",
    "    'N ': 'NORTH ',\n",
    "    'S ': 'SOUTH '\n",
    "}\n",
    "pattern = r'^(' + '|'.join(re.escape(key) for key in direction_mapping.keys()) + r')'\n",
    "\n"
   ]
  },
  {
   "cell_type": "code",
   "execution_count": null,
   "id": "996f3fb5",
   "metadata": {},
   "outputs": [],
   "source": [
    "def replace_directions(match):\n",
    "    return direction_mapping[match.group(0)]\n",
    "Xtr['Address'] = Xtr['Address'].str.replace(pattern, replace_directions, regex=True)\n",
    "Xte['Address'] = Xte['Address'].str.replace(pattern, replace_directions, regex=True)\n",
    "Xtr['Address'] = Xtr['Address'].str.replace(pattern, r'\\1', regex=True)\n",
    "Xte['Address'] = Xte['Address'].str.replace(pattern, r'\\1', regex=True)\n",
    "pattern = r'^[A-C]\\s'\n",
    "Xtr['Address'] = Xtr['Address'].str.replace(pattern, '', regex=True)\n",
    "Xte['Address'] = Xte['Address'].str.replace(pattern, '', regex=True)\n",
    "pattern = r'^[A-C]\\s'\n",
    "Xtr['Address'] = Xtr['Address'].str.replace(pattern, '', regex=True)\n",
    "Xte['Address'] = Xte['Address'].str.replace(pattern, '', regex=True)\n",
    "\n"
   ]
  },
  {
   "cell_type": "code",
   "execution_count": null,
   "id": "61ad9efa",
   "metadata": {},
   "outputs": [],
   "source": [
    "patterns_and_replacements = [\n",
    "    (r'\\b(NORTH LAKE DRIVE)\\b', r'NORTH LAKE DRIVE'),\n",
    "    (r'\\b(WOLFPIT AVENUE)\\b', r'WOLFPIT AVENUE'),\n",
    "    (r'\\b(DONAHUE ROAD)\\b', r'DONAHUE ROAD'),\n",
    "    (r'\\b(WEST STREET)\\b', r'WEST STREET'),\n",
    "    (r'\\b(SHEPARD AVENUE)\\b', r'SHEPARD AVENUE'),\n",
    "    (r'\\b(ROWAYTON WOODS DRIVE)\\b', r'ROWAYTON WOODS DRIVE'),\n",
    "    (r'\\b(RIVERTON ROADUNIT)\\b', r'RIVERTON ROADUNIT'),\n",
    "    (r'\\b(REMINGTON STREET)\\b', r'REMINGTON STREET'),\n",
    "    (r'\\b(PUTNAM HILL)\\b', r'PUTNAM HILL'),\n",
    "    (r'\\b(YANTIC STREET)\\b', r'YANTIC STREET'),\n",
    "    (r'\\b(VICTORY STREET)\\b', r'VICTORY STREET'),\n",
    "    (r'\\b(LAKESIDE BOULEVARD)\\b', r'LAKESIDE BOULEVARD'),\n",
    "    (r'\\b(HIGH STREET)\\b', r'HIGH STREET'),\n",
    "    (r'\\b(AMSTERDAM AVENUE)\\b', r'AMSTERDAM AVENUE'),\n",
    "    (r'\\b(ABBOTT ROAD)\\b', r'ABBOTT ROAD'),\n",
    "    (r'\\b(AIKEN STREET)\\b', r'AIKEN STREET'),\n",
    "    (r'\\b(ANN STREET)\\b', r'ANN STREET'),\n",
    "    (r'\\b(ATLANTIC STREET)\\b', r'ATLANTIC STREET'),\n",
    "    (r'\\b(BETHS AVENUE)\\b', r'BETHS AVENUE'),\n",
    "    \n",
    "    # Add more patterns and replacements here\n",
    "]\n",
    "\n",
    "for pattern, replacement in patterns_and_replacements:\n",
    "    Xtr['Address'] = Xtr['Address'].str.replace(pattern, replacement)\n",
    "    Xte['Address'] = Xte['Address'].str.replace(pattern, replacement)"
   ]
  },
  {
   "cell_type": "code",
   "execution_count": 5,
   "id": "2f51d371",
   "metadata": {},
   "outputs": [],
   "source": [
    "Xtr.to_csv('Xtr1.csv', index=False)\n",
    "Xte.to_csv('Xte1.csv', index=False)"
   ]
  },
  {
   "cell_type": "code",
   "execution_count": 6,
   "id": "efea3432",
   "metadata": {},
   "outputs": [
    {
     "data": {
      "text/html": [
       "<div>\n",
       "<style scoped>\n",
       "    .dataframe tbody tr th:only-of-type {\n",
       "        vertical-align: middle;\n",
       "    }\n",
       "\n",
       "    .dataframe tbody tr th {\n",
       "        vertical-align: top;\n",
       "    }\n",
       "\n",
       "    .dataframe thead th {\n",
       "        text-align: right;\n",
       "    }\n",
       "</style>\n",
       "<table border=\"1\" class=\"dataframe\">\n",
       "  <thead>\n",
       "    <tr style=\"text-align: right;\">\n",
       "      <th></th>\n",
       "      <th>ID</th>\n",
       "      <th>Address</th>\n",
       "    </tr>\n",
       "  </thead>\n",
       "  <tbody>\n",
       "    <tr>\n",
       "      <th>0</th>\n",
       "      <td>2</td>\n",
       "      <td>TURNPIKE RD</td>\n",
       "    </tr>\n",
       "    <tr>\n",
       "      <th>1</th>\n",
       "      <td>11</td>\n",
       "      <td>WOODLAND RD</td>\n",
       "    </tr>\n",
       "    <tr>\n",
       "      <th>2</th>\n",
       "      <td>13</td>\n",
       "      <td>SUNRISE COVE CAMP</td>\n",
       "    </tr>\n",
       "    <tr>\n",
       "      <th>3</th>\n",
       "      <td>14</td>\n",
       "      <td>MONTOWESE ST</td>\n",
       "    </tr>\n",
       "    <tr>\n",
       "      <th>4</th>\n",
       "      <td>15</td>\n",
       "      <td>CAMP ST</td>\n",
       "    </tr>\n",
       "  </tbody>\n",
       "</table>\n",
       "</div>"
      ],
      "text/plain": [
       "   ID            Address\n",
       "0   2        TURNPIKE RD\n",
       "1  11        WOODLAND RD\n",
       "2  13  SUNRISE COVE CAMP\n",
       "3  14       MONTOWESE ST\n",
       "4  15            CAMP ST"
      ]
     },
     "execution_count": 6,
     "metadata": {},
     "output_type": "execute_result"
    }
   ],
   "source": []
  },
  {
   "cell_type": "code",
   "execution_count": null,
   "id": "2fbd3fd6",
   "metadata": {},
   "outputs": [],
   "source": []
  }
 ],
 "metadata": {
  "kernelspec": {
   "display_name": "Python 3",
   "language": "python",
   "name": "python3"
  },
  "language_info": {
   "codemirror_mode": {
    "name": "ipython",
    "version": 3
   },
   "file_extension": ".py",
   "mimetype": "text/x-python",
   "name": "python",
   "nbconvert_exporter": "python",
   "pygments_lexer": "ipython3",
   "version": "3.8.8"
  }
 },
 "nbformat": 4,
 "nbformat_minor": 5
}
