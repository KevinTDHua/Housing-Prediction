{
 "cells": [
  {
   "cell_type": "code",
   "execution_count": 1,
   "id": "a1305fb0",
   "metadata": {},
   "outputs": [],
   "source": [
    "import pandas as pd\n",
    "import matplotlib.pyplot as plt\n",
    "import warnings\n",
    "warnings.filterwarnings('ignore')\n",
    "Xtr = pd.read_csv('Xtr.csv')\n",
    "Xte = pd.read_csv('Xte.csv')\n",
    "Ytr = pd.read_csv('Ytr.csv')\n",
    "Xte.loc[Xte['Town'] == '***Unknown***', 'Town'] = 'East Hampton'\n",
    "Xtr2 = pd.read_csv('Xtr1.csv')\n",
    "Xte2 = pd.read_csv('Xte1.csv')"
   ]
  },
  {
   "cell_type": "code",
   "execution_count": 3,
   "id": "39ea6aa0",
   "metadata": {},
   "outputs": [],
   "source": [
    "Xtr['Address'] = pd.merge(Xtr, Xtr2[['ID', 'Address']], on='ID', how='left')['Address_y']\n",
    "Xte['Address'] = pd.merge(Xte, Xte2[['ID', 'Address']], on='ID', how='left')['Address_y']\n",
    "Xtr1 = Xtr.copy()\n",
    "Xte1 = Xte.copy()\n",
    "Xtr1['Address'] = Xtr1.groupby('Town')['Address'].transform(lambda x: x.fillna(x.mode()[0]))\n",
    "Xte1['Address'] = Xte1.groupby('Town')['Address'].transform(lambda x: x.fillna(x.mode()[0]))\n",
    "Xtr1['Assessed_Value'] = Xtr1.groupby(['Address'])['Assessed_Value'].transform(lambda x: x.fillna(x.median()))\n",
    "Xte1['Assessed_Value'] = Xte1.groupby(['Address'])['Assessed_Value'].transform(lambda x: x.fillna(x.median()))\n",
    "Xtr1.to_csv('Xtr_2.csv', index=False)\n",
    "Xte1.to_csv('Xte_2.csv', index=False)\n"
   ]
  },
  {
   "cell_type": "code",
   "execution_count": null,
   "id": "127898de",
   "metadata": {},
   "outputs": [],
   "source": []
  }
 ],
 "metadata": {
  "kernelspec": {
   "display_name": "Python 3",
   "language": "python",
   "name": "python3"
  },
  "language_info": {
   "codemirror_mode": {
    "name": "ipython",
    "version": 3
   },
   "file_extension": ".py",
   "mimetype": "text/x-python",
   "name": "python",
   "nbconvert_exporter": "python",
   "pygments_lexer": "ipython3",
   "version": "3.8.8"
  }
 },
 "nbformat": 4,
 "nbformat_minor": 5
}
