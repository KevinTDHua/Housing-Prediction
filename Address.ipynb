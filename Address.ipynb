{
 "cells": [
  {
   "cell_type": "code",
   "execution_count": 1,
   "id": "aa9018cf",
   "metadata": {},
   "outputs": [],
   "source": [
    "import pandas as pd\n",
    "import re"
   ]
  },
  {
   "cell_type": "code",
   "execution_count": 2,
   "id": "a16e2a47",
   "metadata": {},
   "outputs": [
    {
     "name": "stderr",
     "output_type": "stream",
     "text": [
      "C:\\Users\\Tyler\\AppData\\Local\\Temp\\ipykernel_15664\\209395189.py:2: DtypeWarning: Columns (6,7) have mixed types. Specify dtype option on import or set low_memory=False.\n",
      "  Xte = pd.read_csv('Xte.csv')\n"
     ]
    }
   ],
   "source": [
    "Xtr = pd.read_csv('Xtr.csv')\n",
    "Xte = pd.read_csv('Xte.csv')\n",
    "\n",
    "Xtr = Xtr[['ID','Address']]\n",
    "Xte = Xte[['ID','Address']]"
   ]
  },
  {
   "cell_type": "code",
   "execution_count": 3,
   "id": "1c1f9119",
   "metadata": {},
   "outputs": [],
   "source": [
    "Xtr['Address'] = Xtr['Address'].str.replace('[^a-zA-Z0-9\\s]', '', regex=True)\n",
    "Xte['Address'] = Xte['Address'].str.replace('[^a-zA-Z0-9\\s]', '', regex=True)"
   ]
  },
  {
   "cell_type": "code",
   "execution_count": 4,
   "id": "0e22f01e",
   "metadata": {},
   "outputs": [],
   "source": [
    "Xtr['Address'] = Xtr['Address'].str.lstrip()\n",
    "Xte['Address'] = Xte['Address'].str.lstrip()"
   ]
  },
  {
   "cell_type": "code",
   "execution_count": 5,
   "id": "3456aea1",
   "metadata": {},
   "outputs": [],
   "source": [
    "Xtr['Address'] = Xtr['Address'].str.replace(r\"\\s+[A-Z]$\", \"\", regex=True)\n",
    "Xte['Address'] = Xte['Address'].str.replace(r\"\\s+[A-Z]$\", \"\", regex=True)"
   ]
  },
  {
   "cell_type": "code",
   "execution_count": 6,
   "id": "158c7c7b",
   "metadata": {},
   "outputs": [],
   "source": [
    "Xtr['Address'] = Xtr['Address'].str.replace(r'\\s+', ' ', regex=True)\n",
    "Xte['Address'] = Xte['Address'].str.replace(r'\\s+', ' ', regex=True)"
   ]
  },
  {
   "cell_type": "code",
   "execution_count": 7,
   "id": "33685ea0",
   "metadata": {},
   "outputs": [],
   "source": [
    "abbreviation_mapping = {\n",
    "    'VLG': 'VILLAGE',\n",
    "    'VILL': 'VILLAGE',\n",
    "    'ST': 'STREET',\n",
    "    'RD': 'ROAD',\n",
    "    'LN': 'LANE',\n",
    "    'LA' : 'LANE',\n",
    "    'AVE': 'AVENUE',\n",
    "    'AV': 'AVENUE',\n",
    "    'RDG': 'RIDGE',\n",
    "    'BLVD': 'BOULEVARD',\n",
    "    'RTE': 'ROUTE',\n",
    "    'UT': 'UNIT',\n",
    "    'CIR': 'CIRCLE',\n",
    "    'ISLE': 'IS',\n",
    "    'CT' : 'COURT',\n",
    "    'DR' : 'DRIVE',\n",
    "    'PL' : 'PLACE',\n",
    "    'HL' : 'HILL',\n",
    "    'PT' : 'POINT',\n",
    "    'TR' : 'TERRACE',\n",
    "    'TER' : 'TERRACE',\n",
    "    'TERR' : 'TERRACE',\n",
    "    'HWY' : 'HIGHWAY',\n",
    "    'HGHY' : 'HIGHWAY',\n",
    "    'HGWY' : 'HIGHWAY',\n",
    "    'TRL' : 'TRAIL',\n",
    "    'SQ' : 'SQUARE',\n",
    "    'LT' : 'LOT'\n",
    "}"
   ]
  },
  {
   "cell_type": "code",
   "execution_count": 8,
   "id": "07fd5923",
   "metadata": {},
   "outputs": [],
   "source": [
    "Xtr['Address'] = Xtr['Address'].astype(str)\n",
    "Xte['Address'] = Xte['Address'].astype(str)"
   ]
  },
  {
   "cell_type": "code",
   "execution_count": 9,
   "id": "cb091229",
   "metadata": {},
   "outputs": [],
   "source": [
    "pattern = r'\\b(' + '|'.join(abbreviation_mapping.keys()) + r')\\b'\n",
    "def replace_abbreviations(match):\n",
    "    return abbreviation_mapping[match.group(0)]\n",
    "Xtr['Address'] = Xtr['Address'].apply(lambda x: re.sub(pattern, replace_abbreviations, x))\n",
    "Xte['Address'] = Xte['Address'].apply(lambda x: re.sub(pattern, replace_abbreviations, x))"
   ]
  },
  {
   "cell_type": "code",
   "execution_count": 10,
   "id": "f347d1f8",
   "metadata": {},
   "outputs": [],
   "source": [
    "direction_mapping = {\n",
    "    'W ': 'WEST ',\n",
    "    'E ': 'EAST ',\n",
    "    'N ': 'NORTH ',\n",
    "    'S ': 'SOUTH '\n",
    "}\n",
    "pattern = r'^(' + '|'.join(re.escape(key) for key in direction_mapping.keys()) + r')'\n",
    "\n",
    "def replace_directions(match):\n",
    "    return direction_mapping[match.group(0)]\n",
    "Xtr['Address'] = Xtr['Address'].str.replace(pattern, replace_directions, regex=True)\n",
    "Xte['Address'] = Xte['Address'].str.replace(pattern, replace_directions, regex=True)"
   ]
  },
  {
   "cell_type": "code",
   "execution_count": 11,
   "id": "76a86c47",
   "metadata": {},
   "outputs": [],
   "source": [
    "pattern = r' (LOT|UNIT|EXT|EXTENSION)$'"
   ]
  },
  {
   "cell_type": "code",
   "execution_count": 12,
   "id": "a657aa2e",
   "metadata": {},
   "outputs": [],
   "source": [
    "Xtr['Address'] = Xtr['Address'].str.replace(pattern, r'\\1', regex=True)\n",
    "Xte['Address'] = Xte['Address'].str.replace(pattern, r'\\1', regex=True)"
   ]
  },
  {
   "cell_type": "code",
   "execution_count": 13,
   "id": "7c4d203d",
   "metadata": {},
   "outputs": [],
   "source": [
    "pattern = r'^[A-C]\\s'\n",
    "Xtr['Address'] = Xtr['Address'].str.replace(pattern, '', regex=True)\n",
    "Xte['Address'] = Xte['Address'].str.replace(pattern, '', regex=True)"
   ]
  },
  {
   "cell_type": "code",
   "execution_count": 14,
   "id": "25a4d221",
   "metadata": {},
   "outputs": [],
   "source": [
    "pattern = r'^[A-C]\\s'\n",
    "Xtr['Address'] = Xtr['Address'].str.replace(pattern, '', regex=True)\n",
    "Xte['Address'] = Xte['Address'].str.replace(pattern, '', regex=True)"
   ]
  },
  {
   "cell_type": "code",
   "execution_count": 15,
   "id": "6b3a6f50",
   "metadata": {},
   "outputs": [],
   "source": [
    "patterns_and_replacements = [\n",
    "    (r'\\b(NORTH LAKE DRIVE)\\b', r'NORTH LAKE DRIVE'),\n",
    "    (r'\\b(WOLFPIT AVENUE)\\b', r'WOLFPIT AVENUE'),\n",
    "    (r'\\b(DONAHUE ROAD)\\b', r'DONAHUE ROAD'),\n",
    "    (r'\\b(WEST STREET)\\b', r'WEST STREET'),\n",
    "    (r'\\b(SHEPARD AVENUE)\\b', r'SHEPARD AVENUE'),\n",
    "    (r'\\b(ROWAYTON WOODS DRIVE)\\b', r'ROWAYTON WOODS DRIVE'),\n",
    "    (r'\\b(RIVERTON ROADUNIT)\\b', r'RIVERTON ROADUNIT'),\n",
    "    (r'\\b(REMINGTON STREET)\\b', r'REMINGTON STREET'),\n",
    "    (r'\\b(PUTNAM HILL)\\b', r'PUTNAM HILL'),\n",
    "    (r'\\b(YANTIC STREET)\\b', r'YANTIC STREET'),\n",
    "    (r'\\b(VICTORY STREET)\\b', r'VICTORY STREET'),\n",
    "    (r'\\b(LAKESIDE BOULEVARD)\\b', r'LAKESIDE BOULEVARD'),\n",
    "    (r'\\b(HIGH STREET)\\b', r'HIGH STREET'),\n",
    "    (r'\\b(AMSTERDAM AVENUE)\\b', r'AMSTERDAM AVENUE'),\n",
    "    (r'\\b(ABBOTT ROAD)\\b', r'ABBOTT ROAD'),\n",
    "    (r'\\b(AIKEN STREET)\\b', r'AIKEN STREET'),\n",
    "    (r'\\b(ANN STREET)\\b', r'ANN STREET'),\n",
    "    (r'\\b(ATLANTIC STREET)\\b', r'ATLANTIC STREET'),\n",
    "    (r'\\b(BETHS AVENUE)\\b', r'BETHS AVENUE'),\n",
    "    \n",
    "    # Add more patterns and replacements here\n",
    "]\n",
    "\n",
    "for pattern, replacement in patterns_and_replacements:\n",
    "    Xtr['Address'] = Xtr['Address'].str.replace(pattern, replacement)\n",
    "    Xte['Address'] = Xte['Address'].str.replace(pattern, replacement)"
   ]
  },
  {
   "cell_type": "code",
   "execution_count": 16,
   "id": "f6a7cb28",
   "metadata": {},
   "outputs": [],
   "source": [
    "Xtr.to_csv('Xtr_Address.csv', index=False)\n",
    "Xte.to_csv('Xte_Address.csv', index=False)"
   ]
  }
 ],
 "metadata": {
  "kernelspec": {
   "display_name": "Python 3 (ipykernel)",
   "language": "python",
   "name": "python3"
  },
  "language_info": {
   "codemirror_mode": {
    "name": "ipython",
    "version": 3
   },
   "file_extension": ".py",
   "mimetype": "text/x-python",
   "name": "python",
   "nbconvert_exporter": "python",
   "pygments_lexer": "ipython3",
   "version": "3.11.5"
  }
 },
 "nbformat": 4,
 "nbformat_minor": 5
}
